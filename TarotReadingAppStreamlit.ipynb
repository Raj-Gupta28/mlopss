{
  "nbformat": 4,
  "nbformat_minor": 0,
  "metadata": {
    "colab": {
      "provenance": [],
      "collapsed_sections": []
    },
    "kernelspec": {
      "name": "python3",
      "display_name": "Python 3"
    },
    "language_info": {
      "name": "python"
    }
  },
  "cells": [
    {
      "cell_type": "code",
      "execution_count": null,
      "metadata": {
        "colab": {
          "base_uri": "https://localhost:8080/"
        },
        "id": "xmOjoU8xeKgY",
        "outputId": "606179d1-c85a-474d-de4f-332f46ca5007"
      },
      "outputs": [
        {
          "output_type": "stream",
          "name": "stdout",
          "text": [
            "Looking in indexes: https://pypi.org/simple, https://us-python.pkg.dev/colab-wheels/public/simple/\n",
            "Collecting streamlit\n",
            "  Downloading streamlit-1.12.2-py2.py3-none-any.whl (9.1 MB)\n",
            "\u001b[K     |████████████████████████████████| 9.1 MB 3.7 MB/s \n",
            "\u001b[?25hRequirement already satisfied: pandas>=0.21.0 in /usr/local/lib/python3.7/dist-packages (from streamlit) (1.3.5)\n",
            "Requirement already satisfied: altair>=3.2.0 in /usr/local/lib/python3.7/dist-packages (from streamlit) (4.2.0)\n",
            "Requirement already satisfied: pyarrow>=4.0 in /usr/local/lib/python3.7/dist-packages (from streamlit) (6.0.1)\n",
            "Collecting validators>=0.2\n",
            "  Downloading validators-0.20.0.tar.gz (30 kB)\n",
            "Collecting blinker>=1.0.0\n",
            "  Downloading blinker-1.5-py2.py3-none-any.whl (12 kB)\n",
            "Requirement already satisfied: cachetools>=4.0 in /usr/local/lib/python3.7/dist-packages (from streamlit) (4.2.4)\n",
            "Collecting semver\n",
            "  Downloading semver-2.13.0-py2.py3-none-any.whl (12 kB)\n",
            "Requirement already satisfied: packaging>=14.1 in /usr/local/lib/python3.7/dist-packages (from streamlit) (21.3)\n",
            "Collecting gitpython!=3.1.19\n",
            "  Downloading GitPython-3.1.27-py3-none-any.whl (181 kB)\n",
            "\u001b[K     |████████████████████████████████| 181 kB 53.1 MB/s \n",
            "\u001b[?25hRequirement already satisfied: numpy in /usr/local/lib/python3.7/dist-packages (from streamlit) (1.21.6)\n",
            "Requirement already satisfied: typing-extensions>=3.10.0.0 in /usr/local/lib/python3.7/dist-packages (from streamlit) (4.1.1)\n",
            "Requirement already satisfied: python-dateutil in /usr/local/lib/python3.7/dist-packages (from streamlit) (2.8.2)\n",
            "Requirement already satisfied: click>=7.0 in /usr/local/lib/python3.7/dist-packages (from streamlit) (7.1.2)\n",
            "Requirement already satisfied: importlib-metadata>=1.4 in /usr/local/lib/python3.7/dist-packages (from streamlit) (4.12.0)\n",
            "Requirement already satisfied: toml in /usr/local/lib/python3.7/dist-packages (from streamlit) (0.10.2)\n",
            "Requirement already satisfied: tornado>=5.0 in /usr/local/lib/python3.7/dist-packages (from streamlit) (5.1.1)\n",
            "Collecting pydeck>=0.1.dev5\n",
            "  Downloading pydeck-0.8.0b1-py2.py3-none-any.whl (4.7 MB)\n",
            "\u001b[K     |████████████████████████████████| 4.7 MB 29.9 MB/s \n",
            "\u001b[?25hRequirement already satisfied: pillow>=6.2.0 in /usr/local/lib/python3.7/dist-packages (from streamlit) (7.1.2)\n",
            "Requirement already satisfied: tzlocal>=1.1 in /usr/local/lib/python3.7/dist-packages (from streamlit) (1.5.1)\n",
            "Collecting pympler>=0.9\n",
            "  Downloading Pympler-1.0.1-py3-none-any.whl (164 kB)\n",
            "\u001b[K     |████████████████████████████████| 164 kB 76.7 MB/s \n",
            "\u001b[?25hCollecting watchdog\n",
            "  Downloading watchdog-2.1.9-py3-none-manylinux2014_x86_64.whl (78 kB)\n",
            "\u001b[K     |████████████████████████████████| 78 kB 6.3 MB/s \n",
            "\u001b[?25hRequirement already satisfied: protobuf<4,>=3.12 in /usr/local/lib/python3.7/dist-packages (from streamlit) (3.17.3)\n",
            "Collecting rich>=10.11.0\n",
            "  Downloading rich-12.5.1-py3-none-any.whl (235 kB)\n",
            "\u001b[K     |████████████████████████████████| 235 kB 77.2 MB/s \n",
            "\u001b[?25hRequirement already satisfied: requests>=2.4 in /usr/local/lib/python3.7/dist-packages (from streamlit) (2.23.0)\n",
            "Requirement already satisfied: entrypoints in /usr/local/lib/python3.7/dist-packages (from altair>=3.2.0->streamlit) (0.4)\n",
            "Requirement already satisfied: toolz in /usr/local/lib/python3.7/dist-packages (from altair>=3.2.0->streamlit) (0.12.0)\n",
            "Requirement already satisfied: jinja2 in /usr/local/lib/python3.7/dist-packages (from altair>=3.2.0->streamlit) (2.11.3)\n",
            "Requirement already satisfied: jsonschema>=3.0 in /usr/local/lib/python3.7/dist-packages (from altair>=3.2.0->streamlit) (4.3.3)\n",
            "Collecting gitdb<5,>=4.0.1\n",
            "  Downloading gitdb-4.0.9-py3-none-any.whl (63 kB)\n",
            "\u001b[K     |████████████████████████████████| 63 kB 1.5 MB/s \n",
            "\u001b[?25hCollecting smmap<6,>=3.0.1\n",
            "  Downloading smmap-5.0.0-py3-none-any.whl (24 kB)\n",
            "Requirement already satisfied: zipp>=0.5 in /usr/local/lib/python3.7/dist-packages (from importlib-metadata>=1.4->streamlit) (3.8.1)\n",
            "Requirement already satisfied: pyrsistent!=0.17.0,!=0.17.1,!=0.17.2,>=0.14.0 in /usr/local/lib/python3.7/dist-packages (from jsonschema>=3.0->altair>=3.2.0->streamlit) (0.18.1)\n",
            "Requirement already satisfied: attrs>=17.4.0 in /usr/local/lib/python3.7/dist-packages (from jsonschema>=3.0->altair>=3.2.0->streamlit) (22.1.0)\n",
            "Requirement already satisfied: importlib-resources>=1.4.0 in /usr/local/lib/python3.7/dist-packages (from jsonschema>=3.0->altair>=3.2.0->streamlit) (5.9.0)\n",
            "Requirement already satisfied: pyparsing!=3.0.5,>=2.0.2 in /usr/local/lib/python3.7/dist-packages (from packaging>=14.1->streamlit) (3.0.9)\n",
            "Requirement already satisfied: pytz>=2017.3 in /usr/local/lib/python3.7/dist-packages (from pandas>=0.21.0->streamlit) (2022.2.1)\n",
            "Requirement already satisfied: six>=1.9 in /usr/local/lib/python3.7/dist-packages (from protobuf<4,>=3.12->streamlit) (1.15.0)\n",
            "Requirement already satisfied: MarkupSafe>=0.23 in /usr/local/lib/python3.7/dist-packages (from jinja2->altair>=3.2.0->streamlit) (2.0.1)\n",
            "Requirement already satisfied: idna<3,>=2.5 in /usr/local/lib/python3.7/dist-packages (from requests>=2.4->streamlit) (2.10)\n",
            "Requirement already satisfied: chardet<4,>=3.0.2 in /usr/local/lib/python3.7/dist-packages (from requests>=2.4->streamlit) (3.0.4)\n",
            "Requirement already satisfied: urllib3!=1.25.0,!=1.25.1,<1.26,>=1.21.1 in /usr/local/lib/python3.7/dist-packages (from requests>=2.4->streamlit) (1.24.3)\n",
            "Requirement already satisfied: certifi>=2017.4.17 in /usr/local/lib/python3.7/dist-packages (from requests>=2.4->streamlit) (2022.6.15)\n",
            "Requirement already satisfied: pygments<3.0.0,>=2.6.0 in /usr/local/lib/python3.7/dist-packages (from rich>=10.11.0->streamlit) (2.6.1)\n",
            "Collecting commonmark<0.10.0,>=0.9.0\n",
            "  Downloading commonmark-0.9.1-py2.py3-none-any.whl (51 kB)\n",
            "\u001b[K     |████████████████████████████████| 51 kB 2.4 MB/s \n",
            "\u001b[?25hRequirement already satisfied: decorator>=3.4.0 in /usr/local/lib/python3.7/dist-packages (from validators>=0.2->streamlit) (4.4.2)\n",
            "Building wheels for collected packages: validators\n",
            "  Building wheel for validators (setup.py) ... \u001b[?25l\u001b[?25hdone\n",
            "  Created wheel for validators: filename=validators-0.20.0-py3-none-any.whl size=19582 sha256=f17cb5a6ce6e1ca5c306b7f4e3c6815becdeeb9aa01215d76e2f949f096d8d4e\n",
            "  Stored in directory: /root/.cache/pip/wheels/5f/55/ab/36a76989f7f88d9ca7b1f68da6d94252bb6a8d6ad4f18e04e9\n",
            "Successfully built validators\n",
            "Installing collected packages: smmap, gitdb, commonmark, watchdog, validators, semver, rich, pympler, pydeck, gitpython, blinker, streamlit\n",
            "Successfully installed blinker-1.5 commonmark-0.9.1 gitdb-4.0.9 gitpython-3.1.27 pydeck-0.8.0b1 pympler-1.0.1 rich-12.5.1 semver-2.13.0 smmap-5.0.0 streamlit-1.12.2 validators-0.20.0 watchdog-2.1.9\n",
            "Looking in indexes: https://pypi.org/simple, https://us-python.pkg.dev/colab-wheels/public/simple/\n",
            "Collecting pyngrok==4.1.1\n",
            "  Downloading pyngrok-4.1.1.tar.gz (18 kB)\n",
            "Requirement already satisfied: future in /usr/local/lib/python3.7/dist-packages (from pyngrok==4.1.1) (0.16.0)\n",
            "Requirement already satisfied: PyYAML in /usr/local/lib/python3.7/dist-packages (from pyngrok==4.1.1) (6.0)\n",
            "Building wheels for collected packages: pyngrok\n",
            "  Building wheel for pyngrok (setup.py) ... \u001b[?25l\u001b[?25hdone\n",
            "  Created wheel for pyngrok: filename=pyngrok-4.1.1-py3-none-any.whl size=15983 sha256=eb70a17a6457cb3f6481c641e2ecff499eea9e8b78b375ee584accea93815d74\n",
            "  Stored in directory: /root/.cache/pip/wheels/b1/d9/12/045a042fee3127dc40ba6f5df2798aa2df38c414bf533ca765\n",
            "Successfully built pyngrok\n",
            "Installing collected packages: pyngrok\n",
            "Successfully installed pyngrok-4.1.1\n"
          ]
        }
      ],
      "source": [
        "# Install libraries \n",
        "!pip install streamlit\n",
        "!pip install pyngrok==4.1.1"
      ]
    },
    {
      "cell_type": "markdown",
      "source": [],
      "metadata": {
        "id": "boLXuKDMj3-F"
      }
    },
    {
      "cell_type": "code",
      "source": [],
      "metadata": {
        "id": "cotI6uwWj5_M"
      },
      "execution_count": null,
      "outputs": []
    },
    {
      "cell_type": "code",
      "source": [
        "# Install kaggle libraries\n",
        "!pip install kaggle\n",
        "!mkdir ~/.kaggle\n",
        "!cp /content/drive/MyDrive/Portfolio/kaggle.json ~/.kaggle/kaggle.json"
      ],
      "metadata": {
        "colab": {
          "base_uri": "https://localhost:8080/"
        },
        "id": "LHjnNtq69YUk",
        "outputId": "bef6839e-940e-446e-ac6b-16de9c2d414e"
      },
      "execution_count": null,
      "outputs": [
        {
          "output_type": "stream",
          "name": "stdout",
          "text": [
            "Looking in indexes: https://pypi.org/simple, https://us-python.pkg.dev/colab-wheels/public/simple/\n",
            "Requirement already satisfied: kaggle in /usr/local/lib/python3.7/dist-packages (1.5.12)\n",
            "Requirement already satisfied: python-slugify in /usr/local/lib/python3.7/dist-packages (from kaggle) (6.1.2)\n",
            "Requirement already satisfied: certifi in /usr/local/lib/python3.7/dist-packages (from kaggle) (2022.6.15)\n",
            "Requirement already satisfied: six>=1.10 in /usr/local/lib/python3.7/dist-packages (from kaggle) (1.15.0)\n",
            "Requirement already satisfied: requests in /usr/local/lib/python3.7/dist-packages (from kaggle) (2.23.0)\n",
            "Requirement already satisfied: python-dateutil in /usr/local/lib/python3.7/dist-packages (from kaggle) (2.8.2)\n",
            "Requirement already satisfied: urllib3 in /usr/local/lib/python3.7/dist-packages (from kaggle) (1.24.3)\n",
            "Requirement already satisfied: tqdm in /usr/local/lib/python3.7/dist-packages (from kaggle) (4.64.0)\n",
            "Requirement already satisfied: text-unidecode>=1.3 in /usr/local/lib/python3.7/dist-packages (from python-slugify->kaggle) (1.3)\n",
            "Requirement already satisfied: chardet<4,>=3.0.2 in /usr/local/lib/python3.7/dist-packages (from requests->kaggle) (3.0.4)\n",
            "Requirement already satisfied: idna<3,>=2.5 in /usr/local/lib/python3.7/dist-packages (from requests->kaggle) (2.10)\n"
          ]
        }
      ]
    },
    {
      "cell_type": "code",
      "source": [
        "# Dowload kaggle dataset of interest \n",
        "!kaggle datasets download lsind18/tarot-json"
      ],
      "metadata": {
        "colab": {
          "base_uri": "https://localhost:8080/"
        },
        "id": "BcDlZLTW9j_P",
        "outputId": "8bb304c5-b453-4448-9e4a-ca982c94ae40"
      },
      "execution_count": null,
      "outputs": [
        {
          "output_type": "stream",
          "name": "stdout",
          "text": [
            "Downloading tarot-json.zip to /content\n",
            " 68% 5.00M/7.41M [00:00<00:00, 19.1MB/s]\n",
            "100% 7.41M/7.41M [00:00<00:00, 27.4MB/s]\n"
          ]
        }
      ]
    },
    {
      "cell_type": "code",
      "source": [
        "# Unzip kaggle dataset\n",
        "!unzip tarot-json.zip"
      ],
      "metadata": {
        "colab": {
          "base_uri": "https://localhost:8080/"
        },
        "id": "mzhCgxVe_P4c",
        "outputId": "afd01aa0-e081-47f3-bff8-dfc5abe6f2a4"
      },
      "execution_count": null,
      "outputs": [
        {
          "output_type": "stream",
          "name": "stdout",
          "text": [
            "Archive:  tarot-json.zip\n",
            "  inflating: cards/c01.jpg           \n",
            "  inflating: cards/c02.jpg           \n",
            "  inflating: cards/c03.jpg           \n",
            "  inflating: cards/c04.jpg           \n",
            "  inflating: cards/c05.jpg           \n",
            "  inflating: cards/c06.jpg           \n",
            "  inflating: cards/c07.jpg           \n",
            "  inflating: cards/c08.jpg           \n",
            "  inflating: cards/c09.jpg           \n",
            "  inflating: cards/c10.jpg           \n",
            "  inflating: cards/c11.jpg           \n",
            "  inflating: cards/c12.jpg           \n",
            "  inflating: cards/c13.jpg           \n",
            "  inflating: cards/c14.jpg           \n",
            "  inflating: cards/m00.jpg           \n",
            "  inflating: cards/m01.jpg           \n",
            "  inflating: cards/m02.jpg           \n",
            "  inflating: cards/m03.jpg           \n",
            "  inflating: cards/m04.jpg           \n",
            "  inflating: cards/m05.jpg           \n",
            "  inflating: cards/m06.jpg           \n",
            "  inflating: cards/m07.jpg           \n",
            "  inflating: cards/m08.jpg           \n",
            "  inflating: cards/m09.jpg           \n",
            "  inflating: cards/m10.jpg           \n",
            "  inflating: cards/m11.jpg           \n",
            "  inflating: cards/m12.jpg           \n",
            "  inflating: cards/m13.jpg           \n",
            "  inflating: cards/m14.jpg           \n",
            "  inflating: cards/m15.jpg           \n",
            "  inflating: cards/m16.jpg           \n",
            "  inflating: cards/m17.jpg           \n",
            "  inflating: cards/m18.jpg           \n",
            "  inflating: cards/m19.jpg           \n",
            "  inflating: cards/m20.jpg           \n",
            "  inflating: cards/m21.jpg           \n",
            "  inflating: cards/p01.jpg           \n",
            "  inflating: cards/p02.jpg           \n",
            "  inflating: cards/p03.jpg           \n",
            "  inflating: cards/p04.jpg           \n",
            "  inflating: cards/p05.jpg           \n",
            "  inflating: cards/p06.jpg           \n",
            "  inflating: cards/p07.jpg           \n",
            "  inflating: cards/p08.jpg           \n",
            "  inflating: cards/p09.jpg           \n",
            "  inflating: cards/p10.jpg           \n",
            "  inflating: cards/p11.jpg           \n",
            "  inflating: cards/p12.jpg           \n",
            "  inflating: cards/p13.jpg           \n",
            "  inflating: cards/p14.jpg           \n",
            "  inflating: cards/s01.jpg           \n",
            "  inflating: cards/s02.jpg           \n",
            "  inflating: cards/s03.jpg           \n",
            "  inflating: cards/s04.jpg           \n",
            "  inflating: cards/s05.jpg           \n",
            "  inflating: cards/s06.jpg           \n",
            "  inflating: cards/s07.jpg           \n",
            "  inflating: cards/s08.jpg           \n",
            "  inflating: cards/s09.jpg           \n",
            "  inflating: cards/s10.jpg           \n",
            "  inflating: cards/s11.jpg           \n",
            "  inflating: cards/s12.jpg           \n",
            "  inflating: cards/s13.jpg           \n",
            "  inflating: cards/s14.jpg           \n",
            "  inflating: cards/w01.jpg           \n",
            "  inflating: cards/w02.jpg           \n",
            "  inflating: cards/w03.jpg           \n",
            "  inflating: cards/w04.jpg           \n",
            "  inflating: cards/w05.jpg           \n",
            "  inflating: cards/w06.jpg           \n",
            "  inflating: cards/w07.jpg           \n",
            "  inflating: cards/w08.jpg           \n",
            "  inflating: cards/w09.jpg           \n",
            "  inflating: cards/w10.jpg           \n",
            "  inflating: cards/w11.jpg           \n",
            "  inflating: cards/w12.jpg           \n",
            "  inflating: cards/w13.jpg           \n",
            "  inflating: cards/w14.jpg           \n",
            "  inflating: tarot-images.json       \n"
          ]
        }
      ]
    },
    {
      "cell_type": "markdown",
      "source": [
        "# Tarot Reading App using Streamlit"
      ],
      "metadata": {
        "id": "6FwyG3b18bVt"
      }
    },
    {
      "cell_type": "code",
      "source": [
        "%%writefile tarot_reading_app.py\n",
        "\n",
        "import streamlit as st\n",
        "import pandas as pd\n",
        "import json\n",
        "import numpy as np # linear algebra\n",
        "import os\n",
        "import random\n",
        "import PIL\n",
        "import datetime\n",
        "import matplotlib.pyplot as plt\n",
        "import seaborn as sns\n",
        "sns.set(style=\"whitegrid\")\n",
        "\n",
        "st.set_page_config(\n",
        "\t\tpage_title= \"Tarot Reading\", # String or None. Strings get appended with \"• Streamlit\".\n",
        "\t\t layout=\"wide\",  # Can be \"centered\" or \"wide\". In the future also \"dashboard\", etc.\n",
        "\t\t #initial_sidebar_state=\"auto\",  # Can be \"auto\", \"expanded\", \"collapsed\"\n",
        "\t\t #page_icon=None,  # String, anything supported by st.image, or None.\n",
        ")\n",
        "\n",
        "\n",
        "# front end elements of the web page \n",
        "html_temp = \"\"\" \n",
        "    <div style =\"background-color:white;padding:13px\"> \n",
        "    <h1 style =\"color:black;text-align:center;\">Tarot Reading App</h1> \n",
        "    </div> \n",
        "    \"\"\"\n",
        "      \n",
        "# display the front end aspect\n",
        "st.markdown(html_temp, unsafe_allow_html = True) \n",
        "st.caption('by Valeria Filippou ')\n",
        "\n",
        "@st.cache\n",
        "def load_data(filename): \n",
        "    data = json.load(open(filename))\n",
        "    return data\n",
        "\n",
        "data=load_data('tarot-images.json') \n",
        "df = pd.json_normalize(data['cards'])\n",
        "#st.write(df)\n",
        "df['fortune_telling_1'] = df['fortune_telling'].str[0]\n",
        "df['fortune_telling_2'] = df['fortune_telling'].str[1]\n",
        "df['fortune_telling_3'] = df['fortune_telling'].str[2]\n",
        "df = df.fillna('')\n",
        "\n",
        "if st.button(\"Reading\"):  \n",
        "\n",
        "\t\treading = df.sample(n = 3).reset_index(drop=True)  \n",
        "\t\t\n",
        "\t\ttoday = datetime.date.today()\n",
        "\t\tdate = today.strftime(\"%d-%B-%Y\")\n",
        "\t\t\t\t\n",
        "\t\t# identify images\n",
        "\t\tname_img_past = reading['img'].iloc[0]\n",
        "\t\tname_img_present = reading['img'].iloc[1]\n",
        "\t\tname_img_future = reading['img'].iloc[2]\n",
        "\n",
        "\t\t# open images\n",
        "\t\timg_past = PIL.Image.open(f'cards/{name_img_past}')\n",
        "\t\timg_present = PIL.Image.open(f'cards/{name_img_present}')\n",
        "\t\timg_future = PIL.Image.open(f'cards/{name_img_future}')\n",
        "\n",
        "\t\t# plot images\n",
        "\t\tfig, (past, present, future) = plt.subplots(1, 3, figsize=(5, 3))\n",
        "\t\tfig.suptitle('Your reading: Past, Present, Future on {}'.format(date), fontsize=10)\n",
        "\t\tpast.imshow(img_past)\n",
        "\t\tpast.axis('off')\n",
        "\t\tpast.set_title(reading['name'].iloc[0], fontsize=7)\n",
        "\t\tpresent.imshow(img_present)\n",
        "\t\tpresent.axis('off')\n",
        "\t\tpresent.set_title(reading['name'].iloc[1], fontsize=7)\n",
        "\t\tfuture.imshow(img_future)\n",
        "\t\tfuture.axis('off')\n",
        "\t\tfuture.set_title(reading['name'].iloc[2], fontsize=7)\n",
        "\t\tplt.show()\n",
        "\t\tst.pyplot(fig)\n",
        "\t\t\n",
        "\t\t# Outcomes\n",
        "\t\tst.text('My dearest, your fortune reading is about your past, present and future.')\n",
        "\t\tst.text('')\n",
        "\t\tst.subheader('Regarding your past : ')\n",
        "\t\tst.text(reading['fortune_telling_1'].iloc[0])\n",
        "\t\tst.text(reading['fortune_telling_2'].iloc[0])\n",
        "\t\tst.text(reading['fortune_telling_3'].iloc[0])\n",
        "\t\tst.text('')\n",
        "\t\tst.subheader('Regarding your present: ')\n",
        "\t\tst.text(reading['fortune_telling_1'].iloc[1])\n",
        "\t\tst.text(reading['fortune_telling_2'].iloc[1])\n",
        "\t\tst.text(reading['fortune_telling_3'].iloc[1])\n",
        "\t\tst.text('')\n",
        "\t\tst.subheader('Regarding your future: ')\n",
        "\t\tst.text(reading['fortune_telling_1'].iloc[2])\n",
        "\t\tst.text(reading['fortune_telling_2'].iloc[2])\n",
        "\t\tst.text(reading['fortune_telling_3'].iloc[2])\n",
        "\n",
        "st.sidebar.subheader(\"About App\")\n",
        "\n",
        "st.sidebar.info(\"This web app makes a tarot reading about your past, present and future.\")\n",
        "st.sidebar.info(\"Click on the 'Reading' button to make a reading.\")\n",
        "st.sidebar.info(\"Hoped you had fun.\")\n",
        "st.sidebar.info(\"Don't forget to rate this app\")\n",
        "\n",
        "feedback = st.sidebar.slider('How much would you rate this app?',min_value=0,max_value=5,step=1)\n",
        "\n",
        "if feedback:\n",
        "  st.header(\"Thank you for rating the app!\")\n",
        "  st.info(\"Caution: This is just a prediction and not doctoral advice. Kindly see a doctor if you feel the symptoms persist.\")\n"
      ],
      "metadata": {
        "colab": {
          "base_uri": "https://localhost:8080/"
        },
        "id": "Otz-zuMKeVNa",
        "outputId": "b5a9b691-e173-4ab2-81da-130422b2ea8b"
      },
      "execution_count": null,
      "outputs": [
        {
          "output_type": "stream",
          "name": "stdout",
          "text": [
            "Writing tarot_reading_app.py\n"
          ]
        }
      ]
    },
    {
      "cell_type": "code",
      "source": [
        "# Check files in directory\n",
        "!ls"
      ],
      "metadata": {
        "colab": {
          "base_uri": "https://localhost:8080/"
        },
        "id": "GHTMXgHZjdvY",
        "outputId": "b8567fd0-e825-4371-9362-450fecf2066d"
      },
      "execution_count": null,
      "outputs": [
        {
          "output_type": "stream",
          "name": "stdout",
          "text": [
            "cards  sample_data\t  tarot-json.zip\n",
            "drive  tarot-images.json  tarot_reading_app.py\n"
          ]
        }
      ]
    },
    {
      "cell_type": "markdown",
      "source": [
        "# Run the web app locally using ngrok"
      ],
      "metadata": {
        "id": "Bn_O22kZ87HO"
      }
    },
    {
      "cell_type": "code",
      "source": [
        "# Authtoken to visualise web app locally\n",
        "# Created at https://ngrok.com/ \n",
        "!ngrok authtoken XXXXXXXXX"
      ],
      "metadata": {
        "colab": {
          "base_uri": "https://localhost:8080/"
        },
        "id": "KTwQw_PsjhBL",
        "outputId": "3953dd7e-83af-44de-c9d6-da7410428f94"
      },
      "execution_count": null,
      "outputs": [
        {
          "output_type": "stream",
          "name": "stdout",
          "text": [
            "Authtoken saved to configuration file: /root/.ngrok2/ngrok.yml\n"
          ]
        }
      ]
    },
    {
      "cell_type": "code",
      "source": [
        "!ngrok"
      ],
      "metadata": {
        "colab": {
          "base_uri": "https://localhost:8080/"
        },
        "id": "Cjv7DYkdj6w4",
        "outputId": "00aee5e5-71c7-4972-d729-e0fbf8acc972"
      },
      "execution_count": null,
      "outputs": [
        {
          "output_type": "stream",
          "name": "stdout",
          "text": [
            "NAME:\n",
            "   ngrok - tunnel local ports to public URLs and inspect traffic\n",
            "\n",
            "DESCRIPTION:\n",
            "    ngrok exposes local networked services behinds NATs and firewalls to the\n",
            "    public internet over a secure tunnel. Share local websites, build/test\n",
            "    webhook consumers and self-host personal services.\n",
            "    Detailed help for each command is available with 'ngrok help <command>'.\n",
            "    Open http://localhost:4040 for ngrok's web interface to inspect traffic.\n",
            "\n",
            "EXAMPLES:\n",
            "    ngrok http 80                    # secure public URL for port 80 web server\n",
            "    ngrok http -subdomain=baz 8080   # port 8080 available at baz.ngrok.io\n",
            "    ngrok http foo.dev:80            # tunnel to host:port instead of localhost\n",
            "    ngrok http https://localhost     # expose a local https server\n",
            "    ngrok tcp 22                     # tunnel arbitrary TCP traffic to port 22\n",
            "    ngrok tls -hostname=foo.com 443  # TLS traffic for foo.com to port 443\n",
            "    ngrok start foo bar baz          # start tunnels from the configuration file\n",
            "\n",
            "VERSION:\n",
            "   2.3.40\n",
            "\n",
            "AUTHOR:\n",
            "  inconshreveable - <alan@ngrok.com>\n",
            "\n",
            "COMMANDS:\n",
            "   authtoken\tsave authtoken to configuration file\n",
            "   credits\tprints author and licensing information\n",
            "   http\t\tstart an HTTP tunnel\n",
            "   start\tstart tunnels by name from the configuration file\n",
            "   tcp\t\tstart a TCP tunnel\n",
            "   tls\t\tstart a TLS tunnel\n",
            "   update\tupdate ngrok to the latest version\n",
            "   version\tprint the version string\n",
            "   help\t\tShows a list of commands or help for one command\n",
            "\n",
            "PYNGROK VERSION:\n",
            "   4.1.1\n"
          ]
        }
      ]
    },
    {
      "cell_type": "code",
      "source": [
        "from pyngrok import ngrok"
      ],
      "metadata": {
        "id": "XR06ICvZj7ze"
      },
      "execution_count": null,
      "outputs": []
    },
    {
      "cell_type": "code",
      "source": [
        "# Run app on the background\n",
        "!streamlit run tarot_reading_app.py&>/dev/null&"
      ],
      "metadata": {
        "id": "eevrAc2ekZEG"
      },
      "execution_count": null,
      "outputs": []
    },
    {
      "cell_type": "code",
      "source": [
        "!pgrep streamlit"
      ],
      "metadata": {
        "colab": {
          "base_uri": "https://localhost:8080/"
        },
        "id": "MtEhIl64k9bi",
        "outputId": "f9d30bec-6084-4be9-fc83-07a21df4c94a"
      },
      "execution_count": null,
      "outputs": [
        {
          "output_type": "stream",
          "name": "stdout",
          "text": [
            "406\n",
            "409\n"
          ]
        }
      ]
    },
    {
      "cell_type": "code",
      "source": [
        "# Create a public url for the developer to run the app at the web locally\n",
        "public_url = ngrok.connect(port='8501')\n",
        "public_url"
      ],
      "metadata": {
        "id": "FZOa-0kXkMqB"
      },
      "execution_count": null,
      "outputs": []
    },
    {
      "cell_type": "markdown",
      "source": [
        "# Get requirement.txt file"
      ],
      "metadata": {
        "id": "09CLtSwg9AuI"
      }
    },
    {
      "cell_type": "code",
      "source": [
        "!pip install pipreqs"
      ],
      "metadata": {
        "colab": {
          "base_uri": "https://localhost:8080/"
        },
        "id": "qkyW1ksJ6k-T",
        "outputId": "e53a98bd-0fec-4c9a-ac20-7091192b92d9"
      },
      "execution_count": null,
      "outputs": [
        {
          "output_type": "stream",
          "name": "stdout",
          "text": [
            "Looking in indexes: https://pypi.org/simple, https://us-python.pkg.dev/colab-wheels/public/simple/\n",
            "Requirement already satisfied: pipreqs in /usr/local/lib/python3.7/dist-packages (0.4.11)\n",
            "Requirement already satisfied: yarg in /usr/local/lib/python3.7/dist-packages (from pipreqs) (0.1.9)\n",
            "Requirement already satisfied: docopt in /usr/local/lib/python3.7/dist-packages (from pipreqs) (0.6.2)\n",
            "Requirement already satisfied: requests in /usr/local/lib/python3.7/dist-packages (from yarg->pipreqs) (2.23.0)\n",
            "Requirement already satisfied: certifi>=2017.4.17 in /usr/local/lib/python3.7/dist-packages (from requests->yarg->pipreqs) (2022.6.15)\n",
            "Requirement already satisfied: chardet<4,>=3.0.2 in /usr/local/lib/python3.7/dist-packages (from requests->yarg->pipreqs) (3.0.4)\n",
            "Requirement already satisfied: urllib3!=1.25.0,!=1.25.1,<1.26,>=1.21.1 in /usr/local/lib/python3.7/dist-packages (from requests->yarg->pipreqs) (1.24.3)\n",
            "Requirement already satisfied: idna<3,>=2.5 in /usr/local/lib/python3.7/dist-packages (from requests->yarg->pipreqs) (2.10)\n"
          ]
        }
      ]
    },
    {
      "cell_type": "code",
      "source": [
        "!pipreqs . --force"
      ],
      "metadata": {
        "colab": {
          "base_uri": "https://localhost:8080/"
        },
        "id": "1wBrQ2Fm6tfm",
        "outputId": "c78d814b-149a-4df4-ef3e-e5917f6a8a52"
      },
      "execution_count": null,
      "outputs": [
        {
          "output_type": "stream",
          "name": "stdout",
          "text": [
            "INFO: Successfully saved requirements file in ./requirements.txt\n"
          ]
        }
      ]
    }
  ]
}